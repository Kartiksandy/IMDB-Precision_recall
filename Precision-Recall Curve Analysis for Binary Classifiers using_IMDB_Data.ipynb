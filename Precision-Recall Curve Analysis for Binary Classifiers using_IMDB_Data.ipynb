{
 "cells": [
  {
   "cell_type": "markdown",
   "id": "941cd1e4-782b-4e3f-9e3a-768883e0c088",
   "metadata": {},
   "source": [
    "##  PROJECT 3\n",
    "\n",
    "KARTIK CHOPRA"
   ]
  },
  {
   "cell_type": "code",
   "execution_count": 1,
   "id": "93bf75f1-5446-430c-ae9c-aede061cfa43",
   "metadata": {},
   "outputs": [
    {
     "name": "stdout",
     "output_type": "stream",
     "text": [
      "Requirement already satisfied: nltk in /Library/Frameworks/Python.framework/Versions/3.11/lib/python3.11/site-packages (3.8.1)\n",
      "Requirement already satisfied: click in /Library/Frameworks/Python.framework/Versions/3.11/lib/python3.11/site-packages (from nltk) (8.1.7)\n",
      "Requirement already satisfied: joblib in /Library/Frameworks/Python.framework/Versions/3.11/lib/python3.11/site-packages (from nltk) (1.3.2)\n",
      "Requirement already satisfied: regex>=2021.8.3 in /Library/Frameworks/Python.framework/Versions/3.11/lib/python3.11/site-packages (from nltk) (2023.12.25)\n",
      "Requirement already satisfied: tqdm in /Library/Frameworks/Python.framework/Versions/3.11/lib/python3.11/site-packages (from nltk) (4.66.2)\n"
     ]
    }
   ],
   "source": [
    "!pip3 install nltk"
   ]
  },
  {
   "cell_type": "code",
   "execution_count": 2,
   "id": "44bcf034-f2fe-443d-9004-7ced2c841e6c",
   "metadata": {},
   "outputs": [],
   "source": [
    "import pandas as pd\n",
    "import seaborn as sns\n",
    "import matplotlib.pyplot as plt"
   ]
  },
  {
   "cell_type": "markdown",
   "id": "f78c22a4-1c02-4b9e-beee-768dec8d0e3e",
   "metadata": {},
   "source": [
    "## Reading the CSV"
   ]
  },
  {
   "cell_type": "code",
   "execution_count": 3,
   "id": "8eec610f-3373-40c9-bcfc-e61552f863fd",
   "metadata": {},
   "outputs": [],
   "source": [
    "data = pd.read_csv('IMDB_dataset.csv')"
   ]
  },
  {
   "cell_type": "markdown",
   "id": "b17131d1-9b8e-43c3-8a00-0f01ccbadec5",
   "metadata": {},
   "source": [
    "## Data Processing"
   ]
  },
  {
   "cell_type": "code",
   "execution_count": 4,
   "id": "83033521-ee99-400f-b789-226b8b5c7ef7",
   "metadata": {},
   "outputs": [
    {
     "data": {
      "text/html": [
       "<div>\n",
       "<style scoped>\n",
       "    .dataframe tbody tr th:only-of-type {\n",
       "        vertical-align: middle;\n",
       "    }\n",
       "\n",
       "    .dataframe tbody tr th {\n",
       "        vertical-align: top;\n",
       "    }\n",
       "\n",
       "    .dataframe thead th {\n",
       "        text-align: right;\n",
       "    }\n",
       "</style>\n",
       "<table border=\"1\" class=\"dataframe\">\n",
       "  <thead>\n",
       "    <tr style=\"text-align: right;\">\n",
       "      <th></th>\n",
       "      <th>review</th>\n",
       "      <th>sentiment</th>\n",
       "    </tr>\n",
       "  </thead>\n",
       "  <tbody>\n",
       "    <tr>\n",
       "      <th>0</th>\n",
       "      <td>I thought this was a wonderful way to spend ti...</td>\n",
       "      <td>positive</td>\n",
       "    </tr>\n",
       "    <tr>\n",
       "      <th>1</th>\n",
       "      <td>Probably my all-time favorite movie, a story o...</td>\n",
       "      <td>positive</td>\n",
       "    </tr>\n",
       "    <tr>\n",
       "      <th>2</th>\n",
       "      <td>I sure would like to see a resurrection of a u...</td>\n",
       "      <td>positive</td>\n",
       "    </tr>\n",
       "    <tr>\n",
       "      <th>3</th>\n",
       "      <td>This show was an amazing, fresh &amp; innovative i...</td>\n",
       "      <td>negative</td>\n",
       "    </tr>\n",
       "    <tr>\n",
       "      <th>4</th>\n",
       "      <td>Encouraged by the positive comments about this...</td>\n",
       "      <td>negative</td>\n",
       "    </tr>\n",
       "  </tbody>\n",
       "</table>\n",
       "</div>"
      ],
      "text/plain": [
       "                                              review sentiment\n",
       "0  I thought this was a wonderful way to spend ti...  positive\n",
       "1  Probably my all-time favorite movie, a story o...  positive\n",
       "2  I sure would like to see a resurrection of a u...  positive\n",
       "3  This show was an amazing, fresh & innovative i...  negative\n",
       "4  Encouraged by the positive comments about this...  negative"
      ]
     },
     "execution_count": 4,
     "metadata": {},
     "output_type": "execute_result"
    }
   ],
   "source": [
    "data.head()"
   ]
  },
  {
   "cell_type": "code",
   "execution_count": 5,
   "id": "3ef2aaa7-a41c-46fe-bb30-1a7859093dfe",
   "metadata": {},
   "outputs": [
    {
     "name": "stdout",
     "output_type": "stream",
     "text": [
      "number if Rows 25000\n",
      "Number of Columsn 2\n"
     ]
    }
   ],
   "source": [
    "print(\"number if Rows\",data.shape[0])\n",
    "print(\"Number of Columsn\", data.shape[1])"
   ]
  },
  {
   "cell_type": "code",
   "execution_count": 6,
   "id": "7410b8f6-4baa-4408-b630-ccad5c2f174c",
   "metadata": {},
   "outputs": [
    {
     "name": "stdout",
     "output_type": "stream",
     "text": [
      "<class 'pandas.core.frame.DataFrame'>\n",
      "RangeIndex: 25000 entries, 0 to 24999\n",
      "Data columns (total 2 columns):\n",
      " #   Column     Non-Null Count  Dtype \n",
      "---  ------     --------------  ----- \n",
      " 0   review     25000 non-null  object\n",
      " 1   sentiment  25000 non-null  object\n",
      "dtypes: object(2)\n",
      "memory usage: 390.8+ KB\n"
     ]
    }
   ],
   "source": [
    "data.info()"
   ]
  },
  {
   "cell_type": "markdown",
   "id": "b9962da8-31c5-4c0b-8a7b-1da8d2ee8c67",
   "metadata": {},
   "source": [
    "## Checking Null Values"
   ]
  },
  {
   "cell_type": "code",
   "execution_count": 7,
   "id": "24b59e5d-c9be-4429-90e9-c4122af215e3",
   "metadata": {},
   "outputs": [
    {
     "name": "stdout",
     "output_type": "stream",
     "text": [
      "any missing vlues? False\n"
     ]
    }
   ],
   "source": [
    "print(\"any missing vlues?\", data.isnull().values.any())"
   ]
  },
  {
   "cell_type": "code",
   "execution_count": 8,
   "id": "d2921242-8f0d-4e84-a13f-6f6c3eda70a1",
   "metadata": {},
   "outputs": [
    {
     "data": {
      "text/plain": [
       "review       0\n",
       "sentiment    0\n",
       "dtype: int64"
      ]
     },
     "execution_count": 8,
     "metadata": {},
     "output_type": "execute_result"
    }
   ],
   "source": [
    "data.isnull().sum()"
   ]
  },
  {
   "cell_type": "code",
   "execution_count": 9,
   "id": "7f55873d-cf77-4c5c-9850-67953bafb325",
   "metadata": {},
   "outputs": [
    {
     "data": {
      "text/plain": [
       "review       0.0\n",
       "sentiment    0.0\n",
       "dtype: float64"
      ]
     },
     "execution_count": 9,
     "metadata": {},
     "output_type": "execute_result"
    }
   ],
   "source": [
    "per_missing= data.isnull().sum() * 100/ len(data)\n",
    "per_missing"
   ]
  },
  {
   "cell_type": "code",
   "execution_count": 10,
   "id": "47e71c3b-5c06-4dab-8af7-4d9f796590ea",
   "metadata": {},
   "outputs": [
    {
     "data": {
      "text/plain": [
       "Index(['review', 'sentiment'], dtype='object')"
      ]
     },
     "execution_count": 10,
     "metadata": {},
     "output_type": "execute_result"
    }
   ],
   "source": [
    "data.columns"
   ]
  },
  {
   "cell_type": "markdown",
   "id": "66cda02f-8d2a-45cf-818a-2f894b2b0c64",
   "metadata": {},
   "source": [
    "## Downloading the required ntkl Packages"
   ]
  },
  {
   "cell_type": "code",
   "execution_count": 11,
   "id": "2c78e744-0ee5-4c44-a9d5-023514ee29db",
   "metadata": {},
   "outputs": [
    {
     "name": "stderr",
     "output_type": "stream",
     "text": [
      "[nltk_data] Downloading package punkt to /Users/hi/nltk_data...\n",
      "[nltk_data]   Package punkt is already up-to-date!\n",
      "[nltk_data] Downloading package stopwords to /Users/hi/nltk_data...\n",
      "[nltk_data]   Package stopwords is already up-to-date!\n",
      "[nltk_data] Downloading package wordnet to /Users/hi/nltk_data...\n",
      "[nltk_data]   Package wordnet is already up-to-date!\n"
     ]
    },
    {
     "data": {
      "text/plain": [
       "True"
      ]
     },
     "execution_count": 11,
     "metadata": {},
     "output_type": "execute_result"
    }
   ],
   "source": [
    "import nltk\n",
    "import ssl\n",
    "\n",
    "try:\n",
    "    _create_unverified_https_context = ssl._create_unverified_context\n",
    "except AttributeError:\n",
    "    pass\n",
    "else:\n",
    "    ssl._create_default_https_context = _create_unverified_https_context\n",
    "\n",
    "nltk.download('punkt')\n",
    "nltk.download('stopwords')\n",
    "nltk.download('wordnet')\n"
   ]
  },
  {
   "cell_type": "markdown",
   "id": "2ae5dace-41c9-48cb-8b62-b7ae52c6fda4",
   "metadata": {},
   "source": [
    "## Preprocess Text DataRemove punctuation, Perform Tokenization, Remove stopwords and Lemmatize/Stem"
   ]
  },
  {
   "cell_type": "code",
   "execution_count": 12,
   "id": "53f1f603-8850-476f-8fa0-9b6ab59a3d09",
   "metadata": {},
   "outputs": [
    {
     "name": "stderr",
     "output_type": "stream",
     "text": [
      "[nltk_data] Downloading package punkt to /Users/hi/nltk_data...\n",
      "[nltk_data]   Package punkt is already up-to-date!\n",
      "[nltk_data] Downloading package stopwords to /Users/hi/nltk_data...\n",
      "[nltk_data]   Package stopwords is already up-to-date!\n",
      "[nltk_data] Downloading package wordnet to /Users/hi/nltk_data...\n",
      "[nltk_data]   Package wordnet is already up-to-date!\n"
     ]
    },
    {
     "name": "stdout",
     "output_type": "stream",
     "text": [
      "Data preprocessing completed.\n"
     ]
    }
   ],
   "source": [
    "import string\n",
    "from nltk.tokenize import word_tokenize\n",
    "from nltk.corpus import stopwords\n",
    "from nltk.stem import WordNetLemmatizer\n",
    "import nltk\n",
    "\n",
    "# Download NLTK data\n",
    "nltk.download('punkt')\n",
    "nltk.download('stopwords')\n",
    "nltk.download('wordnet')\n",
    "\n",
    "def preprocess_text(text):\n",
    "    # text to lowercase\n",
    "    text = text.lower()\n",
    "    # Remove punctuation\n",
    "    text = text.translate(str.maketrans('', '', string.punctuation))\n",
    "    # Tokenization\n",
    "    tokens = word_tokenize(text)\n",
    "    # Remove stopwords and lemmatize\n",
    "    lemmatizer = WordNetLemmatizer()\n",
    "    tokens = [lemmatizer.lemmatize(word) for word in tokens if word not in stopwords.words('english')]\n",
    "    # Join tokens back to a single string\n",
    "    return ' '.join(tokens)\n",
    "\n",
    "data['processed_review'] = data['review'].apply(preprocess_text)\n",
    "print(\"Data preprocessing completed.\")\n"
   ]
  },
  {
   "cell_type": "markdown",
   "id": "585c775f-8de4-4709-a4ae-09f9fae8f1af",
   "metadata": {},
   "source": [
    "Text Cleaning\n",
    "1) Remove punctuation: Strip all punctuation from the reviews.\n",
    "2) Tokenization: Split the text into individual words or tokens.\n",
    "3) Remove stopwords: Filter out common words that are usually ignored in NLP (e.g., \"and\", \"the\").\n",
    "4) Lemmatize/Stem: Reduce words to their root form or base."
   ]
  },
  {
   "cell_type": "markdown",
   "id": "0d1c41a6-ed89-432f-a32f-911fe975962d",
   "metadata": {},
   "source": [
    "## TFIDF Vectorization"
   ]
  },
  {
   "cell_type": "code",
   "execution_count": 13,
   "id": "92e2310c-8754-4bce-b1f4-4f229ce5c83d",
   "metadata": {},
   "outputs": [
    {
     "name": "stdout",
     "output_type": "stream",
     "text": [
      "TFIDF vectorization completed.\n"
     ]
    }
   ],
   "source": [
    "from sklearn.feature_extraction.text import TfidfVectorizer\n",
    "\n",
    "tfidf_vectorizer = TfidfVectorizer(max_features=5000)  # Adjust max_features as needed\n",
    "X_tfidf = tfidf_vectorizer.fit_transform(data['processed_review']).toarray()\n",
    "\n",
    "print(\"TFIDF vectorization completed.\")\n"
   ]
  },
  {
   "cell_type": "markdown",
   "id": "6e3e5c70-01ea-4e58-ad2b-6b1217213537",
   "metadata": {},
   "source": [
    "Transforms preprocessed reviews into TF-IDF feature matrices. TF-IDF reveals words that appear often in a document but not across documents. This stage transforms text data into a format appropriate for machine learning models."
   ]
  },
  {
   "cell_type": "markdown",
   "id": "04358ccc-2eb2-4d94-95f5-2b08f2da831a",
   "metadata": {},
   "source": [
    "## GridSearchCV on Random Forest."
   ]
  },
  {
   "cell_type": "code",
   "execution_count": 14,
   "id": "f778b8bf-5c48-4be3-b7a7-8993c7cd7e33",
   "metadata": {},
   "outputs": [
    {
     "name": "stdout",
     "output_type": "stream",
     "text": [
      "Data split into training and testing sets.\n"
     ]
    }
   ],
   "source": [
    "from sklearn.model_selection import train_test_split\n",
    "\n",
    "y = data['sentiment'].map({'positive': 1, 'negative': 0}).values\n",
    "X_train, X_test, y_train, y_test = train_test_split(X_tfidf, y, test_size=0.2, random_state=42)\n",
    "\n",
    "print(\"Data split into training and testing sets.\")\n"
   ]
  },
  {
   "cell_type": "code",
   "execution_count": 15,
   "id": "ce20718d-09d0-4cf1-85c7-c1d22808e2fe",
   "metadata": {},
   "outputs": [
    {
     "name": "stdout",
     "output_type": "stream",
     "text": [
      "Fitting 3 folds for each of 6 candidates, totalling 18 fits\n",
      "Best parameters found:  {'max_depth': None, 'n_estimators': 200}\n"
     ]
    }
   ],
   "source": [
    "from sklearn.ensemble import RandomForestClassifier\n",
    "from sklearn.model_selection import GridSearchCV\n",
    "\n",
    "classifier = RandomForestClassifier()\n",
    "\n",
    "param_grid = {\n",
    "    'n_estimators': [100, 200], \n",
    "    'max_depth': [None, 10, 20],\n",
    "}\n",
    "\n",
    "grid_search = GridSearchCV(estimator=classifier, param_grid=param_grid, cv=3, verbose=2, n_jobs=-1)\n",
    "\n",
    "grid_search.fit(X_train, y_train)\n",
    "print(\"Best parameters found: \", grid_search.best_params_)\n"
   ]
  },
  {
   "cell_type": "markdown",
   "id": "c652ea69-476c-4c1d-a4d0-bc7a28190288",
   "metadata": {},
   "source": [
    "Fits a model with GridSearchCV, which searches for an estimator based on supplied parameter values. It repeatedly trains the model with different parameters to find the optimal combination, hence boosting model performance."
   ]
  },
  {
   "cell_type": "markdown",
   "id": "7c535c0d-ef7d-4ba6-a7c7-d7059087eae9",
   "metadata": {},
   "source": [
    "## Evaluation of Accuracy score, Precision score, Recall score, F1 score"
   ]
  },
  {
   "cell_type": "code",
   "execution_count": 16,
   "id": "f80f1abf-9b9f-4410-b94a-dfc275e21f12",
   "metadata": {},
   "outputs": [
    {
     "name": "stdout",
     "output_type": "stream",
     "text": [
      "Accuracy: 0.8484\n",
      "Precision: 0.8450704225352113\n",
      "Recall: 0.8491710473109584\n",
      "F1 Score: 0.8471157724889068\n",
      "[CV] END ...................max_depth=None, n_estimators=200; total time=12.5min\n",
      "[CV] END ...................max_depth=None, n_estimators=100; total time= 4.9min\n",
      "[CV] END .....................max_depth=10, n_estimators=200; total time= 7.7min\n",
      "[CV] END ...................max_depth=None, n_estimators=200; total time=12.7min\n",
      "[CV] END .....................max_depth=10, n_estimators=100; total time= 2.7min\n",
      "[CV] END .....................max_depth=10, n_estimators=200; total time= 5.0min\n",
      "[CV] END .....................max_depth=20, n_estimators=100; total time= 5.0min\n",
      "[CV] END ...................max_depth=None, n_estimators=200; total time=12.7min\n",
      "[CV] END ...................max_depth=None, n_estimators=100; total time= 4.9min\n",
      "[CV] END .....................max_depth=20, n_estimators=100; total time= 6.7min\n",
      "[CV] END .....................max_depth=20, n_estimators=200; total time= 1.5min\n",
      "[CV] END .....................max_depth=10, n_estimators=100; total time= 2.6min\n",
      "[CV] END .....................max_depth=10, n_estimators=100; total time= 1.9min\n",
      "[CV] END .....................max_depth=10, n_estimators=200; total time= 7.2min\n",
      "[CV] END .....................max_depth=20, n_estimators=200; total time= 1.4min\n",
      "[CV] END ...................max_depth=None, n_estimators=100; total time= 5.0min\n",
      "[CV] END .....................max_depth=20, n_estimators=100; total time= 6.8min\n",
      "[CV] END .....................max_depth=20, n_estimators=200; total time= 1.4min\n"
     ]
    }
   ],
   "source": [
    "from sklearn.metrics import accuracy_score, precision_score, recall_score, f1_score\n",
    "\n",
    "y_pred = grid_search.predict(X_test)\n",
    "\n",
    "accuracy = accuracy_score(y_test, y_pred)\n",
    "precision = precision_score(y_test, y_pred)\n",
    "recall = recall_score(y_test, y_pred)\n",
    "f1 = f1_score(y_test, y_pred)\n",
    "\n",
    "print(f\"Accuracy: {accuracy}\")\n",
    "print(f\"Precision: {precision}\")\n",
    "print(f\"Recall: {recall}\")\n",
    "print(f\"F1 Score: {f1}\")\n"
   ]
  },
  {
   "cell_type": "markdown",
   "id": "2aba7553-1b71-4061-97a5-7d6a0b8d5942",
   "metadata": {},
   "source": [
    "Calculates and outputs the model's accuracy, which is the percentage of accurately predicted cases. It assesses the model's performance on the test set, revealing how effectively the model generalises to new data."
   ]
  },
  {
   "cell_type": "markdown",
   "id": "17f81258-300b-49e8-96e8-3278b36e544a",
   "metadata": {},
   "source": [
    "## Gradient Boosting Classifier"
   ]
  },
  {
   "cell_type": "code",
   "execution_count": 23,
   "id": "d209abd1-5a43-4dc6-8ac1-1792ef9af923",
   "metadata": {},
   "outputs": [
    {
     "name": "stdout",
     "output_type": "stream",
     "text": [
      "Gradient Boosting Classifier Results\n",
      "Accuracy: 0.8428\n",
      "              precision    recall  f1-score   support\n",
      "\n",
      "           0       0.86      0.82      0.84      2527\n",
      "           1       0.83      0.86      0.84      2473\n",
      "\n",
      "    accuracy                           0.84      5000\n",
      "   macro avg       0.84      0.84      0.84      5000\n",
      "weighted avg       0.84      0.84      0.84      5000\n",
      "\n"
     ]
    }
   ],
   "source": [
    "from sklearn.ensemble import GradientBoostingClassifier\n",
    "from sklearn.metrics import classification_report, accuracy_score\n",
    "from sklearn.model_selection import train_test_split\n",
    "\n",
    "X_train, X_test, y_train, y_test = train_test_split(X_tfidf, y, test_size=0.2, random_state=42)\n",
    "\n",
    "gb_clf = GradientBoostingClassifier(n_estimators=100, learning_rate=1.0, max_depth=3, random_state=42)\n",
    "\n",
    "gb_clf.fit(X_train, y_train)\n",
    "\n",
    "y_pred = gb_clf.predict(X_test)\n",
    "\n",
    "print(\"Gradient Boosting Classifier Results\")\n",
    "print(\"Accuracy:\", accuracy_score(y_test, y_pred))\n",
    "print(classification_report(y_test, y_pred))\n"
   ]
  },
  {
   "cell_type": "markdown",
   "id": "4a664e42-b838-43cd-b36a-ba8a87ca5868",
   "metadata": {},
   "source": [
    "Gradient Boosting Classifier using the training data. Gradient Boosting creates a sequence of decision trees, each fixing faults caused by prior trained trees, to enhance prediction accuracy."
   ]
  },
  {
   "cell_type": "markdown",
   "id": "294f8149-4bed-46c7-a36e-9e8b47b35508",
   "metadata": {},
   "source": [
    "## The best performing model"
   ]
  },
  {
   "cell_type": "code",
   "execution_count": 24,
   "id": "250cf29f-8dc3-43cf-ba0c-5024cce2262b",
   "metadata": {},
   "outputs": [
    {
     "name": "stdout",
     "output_type": "stream",
     "text": [
      "The Random Forest Classifier with the best hyperparameters provides an accuracy of 84.84% on the test set.\n",
      "This project demonstrates the effectiveness of text preprocessing, TFIDF vectorization, and machine learning models in sentiment analysis.\n"
     ]
    }
   ],
   "source": [
    "print(\"The Random Forest Classifier with the best hyperparameters provides an accuracy of {:.2f}% on the test set.\".format(accuracy * 100))\n",
    "print(\"This project demonstrates the effectiveness of text preprocessing, TFIDF vectorization, and machine learning models in sentiment analysis.\")\n"
   ]
  },
  {
   "cell_type": "markdown",
   "id": "99583ad9-d555-4eb2-a5da-4de2287bdb21",
   "metadata": {},
   "source": [
    "## Trade-off between precision and recall"
   ]
  },
  {
   "cell_type": "code",
   "execution_count": 20,
   "id": "3807febf-4508-4414-8009-6b34c775d4e2",
   "metadata": {},
   "outputs": [],
   "source": [
    "import numpy as np  \n",
    "from sklearn.metrics import precision_recall_curve\n",
    "import matplotlib.pyplot as plt\n",
    "\n",
    "\n",
    "y_scores = grid_search.best_estimator_.predict_proba(X_test)[:, 1]\n",
    "\n",
    "precision, recall, thresholds = precision_recall_curve(y_test, y_scores)\n",
    "\n",
    "thresholds = np.append(thresholds, 1)\n"
   ]
  },
  {
   "cell_type": "code",
   "execution_count": 22,
   "id": "a4bb72fa-df6e-4c95-a28d-56c947ab768c",
   "metadata": {},
   "outputs": [
    {
     "data": {
      "image/png": "[encoded data removed]",
      "text/plain": [
       "<Figure size 800x600 with 1 Axes>"
      ]
     },
     "metadata": {},
     "output_type": "display_data"
    }
   ],
   "source": [
    "plt.figure(figsize=(8, 6))\n",
    "plt.plot(recall, precision, marker='.', label='Precision-Recall Curve')\n",
    "plt.xlabel('Recall')\n",
    "plt.ylabel('Precision')\n",
    "plt.title('Precision-Recall Curve')\n",
    "plt.legend()\n",
    "plt.grid(True)\n",
    "plt.show()\n"
   ]
  },
  {
   "cell_type": "markdown",
   "id": "072915ee-6fca-4777-90f6-16590179856c",
   "metadata": {},
   "source": [
    "Plots the precision-recall curve, which depicts the trade-off between precision (the accuracy of positive predictions) and recall (the capacity to discover all positive cases) at various thresholds. Useful for assessing binary classifiers, particularly on skewed datasets."
   ]
  },
  {
   "cell_type": "code",
   "execution_count": null,
   "id": "caab9aa4-a8d0-4a31-a595-57428d7f3d4a",
   "metadata": {},
   "outputs": [],
   "source": []
  }
 ],
 "metadata": {
  "kernelspec": {
   "display_name": "Python 3 (ipykernel)",
   "language": "python",
   "name": "python3"
  },
  "language_info": {
   "codemirror_mode": {
    "name": "ipython",
    "version": 3
   },
   "file_extension": ".py",
   "mimetype": "text/x-python",
   "name": "python",
   "nbconvert_exporter": "python",
   "pygments_lexer": "ipython3",
   "version": "3.12.4"
  }
 },
 "nbformat": 4,
 "nbformat_minor": 5
}
